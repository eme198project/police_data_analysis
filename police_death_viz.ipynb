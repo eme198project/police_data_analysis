{
 "cells": [
  {
   "cell_type": "code",
   "execution_count": 13,
   "metadata": {},
   "outputs": [],
   "source": [
    "# import libraries\n",
    "import numpy as np\n",
    "import pandas as pd\n",
    "import matplotlib.pyplot as plt\n",
    "import statsmodels.api as sm\n",
    "from statsmodels.sandbox.regression.predstd import wls_prediction_std"
   ]
  },
  {
   "cell_type": "code",
   "execution_count": 14,
   "metadata": {},
   "outputs": [],
   "source": [
    "# read in data on US stats for 2015\n",
    "usa_dataframe = pd.read_csv('UpdatedState2015.csv') # data for selected categories per state\n",
    "death_dataframe = pd.read_csv('the-counted-2015.csv') # national data specific to police-related deaths"
   ]
  },
  {
   "cell_type": "code",
   "execution_count": 15,
   "metadata": {},
   "outputs": [
    {
     "name": "stdout",
     "output_type": "stream",
     "text": [
      "       uid                       name age  gender           raceethnicity  \\\n",
      "0        2            Matthew Ajibade  22    Male                   Black   \n",
      "1        4               Lewis Lembke  47    Male                   White   \n",
      "2        5          Michael Kocher Jr  19    Male                   White   \n",
      "3        6              John Quintero  23    Male         Hispanic/Latino   \n",
      "4        7                Tim Elliott  53    Male  Asian/Pacific Islander   \n",
      "5        8            Matthew Hoffman  32    Male                   White   \n",
      "6        9               Kenneth Buck  22    Male         Hispanic/Latino   \n",
      "7       10          Michael Rodriguez  39    Male         Hispanic/Latino   \n",
      "8       11             Patrick Wetter  25    Male                   White   \n",
      "9       12              Brian Pickett  26    Male                   Black   \n",
      "10      13              Autumn Steele  34  Female                   White   \n",
      "11      14              Brock Nichols  35    Male                   White   \n",
      "12      15            Leslie Sapp III  47    Male                   Black   \n",
      "13      16          Nicholas Brickman  30    Male                   White   \n",
      "14      17          Joseph Caffarello  31    Male                   White   \n",
      "15      18               Ronald Sneed  32    Male                   Black   \n",
      "16      19              Omarr Jackson  37    Male                   Black   \n",
      "17      20            Andre Murphy Sr  42    Male                   Black   \n",
      "18      21              Loren Simpson  28    Male                   White   \n",
      "19      22              Artago Howard  36    Male                   Black   \n",
      "20      23               James Barker  42    Male                   White   \n",
      "21      24               Thomas Hamby  49    Male                   White   \n",
      "22      25              Andy Martinez  33    Male         Hispanic/Latino   \n",
      "23      26              Jimmy Foreman  71    Male                   White   \n",
      "24      27              Brian Barbosa  23    Male         Hispanic/Latino   \n",
      "25      28          Salvador Figueroa  29    Male         Hispanic/Latino   \n",
      "26      29                Tommy Smith  39    Male                   White   \n",
      "27      30               John O'Keefe  34    Male                   White   \n",
      "28      31          Richard McClendon  43    Male                   White   \n",
      "29      32              Marcus Golden  24    Male                   Black   \n",
      "...    ...                        ...  ..     ...                     ...   \n",
      "1116  1147              Lonnie Niesen  41    Male                   White   \n",
      "1117  1148             Michael Parker  36    Male                   White   \n",
      "1118  1149                 Sean Mould  34    Male                   White   \n",
      "1119  1150             Corey Achstein  28    Male                   White   \n",
      "1120  1151             Brian Crawford  24    Male                   Black   \n",
      "1121  1152              Jason Foreman  45    Male                 Unknown   \n",
      "1122  1153  Siolosega Velega-Nuufolau  50  Female                 Unknown   \n",
      "1123  1154                    Shun Ma  64    Male                 Unknown   \n",
      "1124  1155                 Paul Testa  44    Male                   White   \n",
      "1125  1156                   Tien Hua  33    Male  Asian/Pacific Islander   \n",
      "1126  1157                 Fred Perez  55    Male         Hispanic/Latino   \n",
      "1127  1158          Jose Mercado-Nova  74    Male         Hispanic/Latino   \n",
      "1128  1159         Keith Childress Jr  23    Male                   Black   \n",
      "1129  1160                 John Veach  39    Male                   White   \n",
      "1130  1161             Eugene McSwain  25    Male                   Black   \n",
      "1131  1162            Gilbert Heredia  38    Male         Hispanic/Latino   \n",
      "1132  1163              Raymone Davis  21    Male                   Black   \n",
      "1133  1164              Lionel Waters  35    Male                   Black   \n",
      "1134  1165             Larry Maharrey  59    Male                   White   \n",
      "1135  1166                   Dana Ott  63    Male                   White   \n",
      "1136  1167               Cameron Long  28    Male                   White   \n",
      "1137  1168           Fernando Sauceda  31    Male         Hispanic/Latino   \n",
      "1138  1169       Carlumandarlo Zaramo  46    Male                   Black   \n",
      "1139  1170              James McBride  74    Male                   Black   \n",
      "1140  1171                James Sizer  62    Male                   White   \n",
      "1141  1172         Kevin Higgenbotham  46    Male                   Black   \n",
      "1142  1173                 John Tozzi  61    Male                   White   \n",
      "1143  1174            Adrian Campbell  24    Male                   Black   \n",
      "1144  1175             Anthony Marino  58    Male                   White   \n",
      "1145  1176              Joseph Seguin  38    Male                   White   \n",
      "\n",
      "          month  day  year                        streetaddress  \\\n",
      "0       January    1  2015                 1050 Carl Griffin Dr   \n",
      "1       January    2  2015                 4505 SW Masters Loop   \n",
      "2       January    3  2015                   2600 Kaumualii Hwy   \n",
      "3       January    3  2015                 500 North Oliver Ave   \n",
      "4       January    2  2015                 600 E Island Lake Dr   \n",
      "5       January    4  2015                      630 Valencia St   \n",
      "6       January    5  2015            E Knox Rd and N Exeter St   \n",
      "7       January    5  2015                          818 31st St   \n",
      "8       January    6  2015                        800 Howard St   \n",
      "9       January    6  2015                      1618 E 123rd St   \n",
      "10      January    6  2015                   104 N Garfield Ave   \n",
      "11      January    6  2015                  2388 E Kansas Hwy 4   \n",
      "12      January    6  2015                            Redlyn St   \n",
      "13      January    7  2015              SE 4th St and Scott Ave   \n",
      "14      January    7  2015                        6300 Scott St   \n",
      "15      January    7  2015                        310 Yaupon St   \n",
      "16      January    8  2015          Lasalle St and Josephine St   \n",
      "17      January    7  2015                       1223 Omaha Ave   \n",
      "18      January    8  2015                3540 White Buffalo Rd   \n",
      "19      January    8  2015                      9661 Strong Hwy   \n",
      "20      January    8  2015                        584 E 2nd Ave   \n",
      "21      January    8  2015                        2964 W 2125 S   \n",
      "22      January    9  2015                       4400 Tetons Dr   \n",
      "23      January    9  2015                        422 SE 3rd St   \n",
      "24      January   11  2015                    8900 Kauffman Ave   \n",
      "25      January   11  2015         Circle K, 1301 N Eastern Ave   \n",
      "26      January   12  2015                        224 Circle Dr   \n",
      "27      January   13  2015  Constitution Ave and San Mateo Blvd   \n",
      "28      January   13  2015                         602 Olive St   \n",
      "29      January   14  2015                 261 E University Ave   \n",
      "...         ...  ...   ...                                  ...   \n",
      "1116   December   26  2015                     12220 N 39th Ave   \n",
      "1117   December   27  2015           MS-26 and Henry Cochran Rd   \n",
      "1118   December   27  2015                    1000 E Fremont Dr   \n",
      "1119   December   28  2015                       300 Causey Ave   \n",
      "1120    October   30  2015           13630 Veterans Memorial Dr   \n",
      "1121    October   16  2015                           Melinda Dr   \n",
      "1122   December   29  2015                     29000 Del Sol Ct   \n",
      "1123   December    3  2015                                  NaN   \n",
      "1124   December   21  2015                    500 East Adams St   \n",
      "1125   December   29  2015                      3500 Strang Ave   \n",
      "1126   December   30  2015        E Belmont Ave and N Weber Ave   \n",
      "1127   November   17  2015               US 85 and County Rd 66   \n",
      "1128   December   31  2015                      Gilded Crown Ct   \n",
      "1129   December   30  2015                   1115 N Higley Blvd   \n",
      "1130       July   10  2015            10600 S Cottage Grove Ave   \n",
      "1131   December   26  2015                          Montana Ave   \n",
      "1132   December    4  2015                        122 Shiloh St   \n",
      "1133   December   20  2015           600 Milford Harrington Hwy   \n",
      "1134       July   14  2015             Airport Dr and Norris Rd   \n",
      "1135   November   10  2015                      5100 Lanagan St   \n",
      "1136   November   16  2015                          Texas Hwy 7   \n",
      "1137   November   30  2015                        Texas Hwy 302   \n",
      "1138   December    6  2015                        Geraldine Ave   \n",
      "1139  September   29  2015                     110 Irving St NW   \n",
      "1140      March    6  2015                 11900 Bittern Hollow   \n",
      "1141       June   15  2015                     200 Bellevue Ave   \n",
      "1142    October   24  2015                          NY-32 South   \n",
      "1143  September   21  2015                         1800 66th St   \n",
      "1144   February   15  2015                 18422 Bear Valley Rd   \n",
      "1145   November   30  2015                          17 Aimee Ct   \n",
      "\n",
      "                     city state     classification  \\\n",
      "0                Savannah    GA   Death in custody   \n",
      "1                   Aloha    OR            Gunshot   \n",
      "2               Kaumakani    HI  Struck by vehicle   \n",
      "3                 Wichita    KS            Gunshot   \n",
      "4                 Shelton    WA            Gunshot   \n",
      "5           San Francisco    CA            Gunshot   \n",
      "6                Chandler    AZ            Gunshot   \n",
      "7                   Evans    CO            Gunshot   \n",
      "8                Stockton    CA            Gunshot   \n",
      "9             Los Angeles    CA              Taser   \n",
      "10             Burlington    IA            Gunshot   \n",
      "11                Assaria    KS            Gunshot   \n",
      "12             Pittsburgh    PA            Gunshot   \n",
      "13             Des Moines    IA            Gunshot   \n",
      "14               Rosemont    IL            Gunshot   \n",
      "15               Freeport    TX            Gunshot   \n",
      "16            New Orleans    LA            Gunshot   \n",
      "17                Norfolk    NE   Death in custody   \n",
      "18                Huntley    MT            Gunshot   \n",
      "19                 Strong    AR            Gunshot   \n",
      "20         Salt Lake City    UT            Gunshot   \n",
      "21               Syracuse    UT            Gunshot   \n",
      "22                El Paso    TX            Gunshot   \n",
      "23                England    AR            Gunshot   \n",
      "24             South Gate    CA            Gunshot   \n",
      "25              Las Vegas    NV            Gunshot   \n",
      "26                 Arcola    IL            Gunshot   \n",
      "27            Albuquerque    NM            Gunshot   \n",
      "28             Jourdanton    TX            Gunshot   \n",
      "29                St Paul    MN            Gunshot   \n",
      "...                   ...   ...                ...   \n",
      "1116              Phoenix    AZ            Gunshot   \n",
      "1117             Lucedale    MS            Gunshot   \n",
      "1118                Tempe    AZ            Gunshot   \n",
      "1119              Suffolk    VA            Gunshot   \n",
      "1120              Houston    TX            Gunshot   \n",
      "1121               Winder    GA            Gunshot   \n",
      "1122  Santa Nella Village    CA            Gunshot   \n",
      "1123              Seattle    WA   Death in custody   \n",
      "1124         Jacksonville    FL              Taser   \n",
      "1125             Rosemead    CA            Gunshot   \n",
      "1126               Fresno    CA            Gunshot   \n",
      "1127              Greeley    CO  Struck by vehicle   \n",
      "1128            Las Vegas    NV            Gunshot   \n",
      "1129              Rawlins    WY            Gunshot   \n",
      "1130              Chicago    IL            Gunshot   \n",
      "1131             Homedale    ID            Gunshot   \n",
      "1132           Pittsburgh    PA            Gunshot   \n",
      "1133           Harrington    DE              Taser   \n",
      "1134          Bakersfield    CA  Struck by vehicle   \n",
      "1135     Colorado Springs    CO            Gunshot   \n",
      "1136          Centerville    TX            Gunshot   \n",
      "1137                 Wink    TX            Gunshot   \n",
      "1138     Richmond Heights    OH            Gunshot   \n",
      "1139           Washington    DC   Death in custody   \n",
      "1140               Austin    TX              Taser   \n",
      "1141              Trenton    NJ   Death in custody   \n",
      "1142            New Paltz    NY            Gunshot   \n",
      "1143              Lubbock    TX   Death in custody   \n",
      "1144          Victorville    CA   Death in custody   \n",
      "1145              Mahopac    NY              Taser   \n",
      "\n",
      "                                   lawenforcementagency               armed  \n",
      "0                       Chatham County Sheriff's Office                  No  \n",
      "1                    Washington County Sheriff's Office             Firearm  \n",
      "2                               Kauai Police Department                  No  \n",
      "3                             Wichita Police Department                  No  \n",
      "4                         Mason County Sheriff's Office             Firearm  \n",
      "5                       San Francisco Police Department  Non-lethal firearm  \n",
      "6                            Chandler Police Department             Firearm  \n",
      "7                               Evans Police Department               Other  \n",
      "8                            Stockton Police Department               Knife  \n",
      "9               Los Angeles County Sheriff's Department                  No  \n",
      "10                         Burlington Police Department                  No  \n",
      "11                       Saline County Sheriff's Office             Firearm  \n",
      "12    US Marshals Service, Pennsylvania State Police...  Non-lethal firearm  \n",
      "13                         Des Moines Police Department             Firearm  \n",
      "14                           Rosemont Police Department             Vehicle  \n",
      "15                           Freeport Police Department             Firearm  \n",
      "16                        New Orleans Police Department             Firearm  \n",
      "17                              Norfolk Police Division                  No  \n",
      "18                  Yellowstone County Sheriff's Office                  No  \n",
      "19                        Union County Sheriff's Office                  No  \n",
      "20                     Salt Lake City Police Department               Other  \n",
      "21    Syracuse Police Department, Davis County Sheri...             Firearm  \n",
      "22                            El Paso Police Department             Firearm  \n",
      "23                            England Police Department             Firearm  \n",
      "24                         South Gate Police Department             Firearm  \n",
      "25                    North Las Vegas Police Department             Firearm  \n",
      "26    Arcola Police Department, Tuscola Police Depar...             Firearm  \n",
      "27                        Albuquerque Police Department             Firearm  \n",
      "28                         Jourdanton Police Department               Knife  \n",
      "29                            St Paul Police Department             Vehicle  \n",
      "...                                                 ...                 ...  \n",
      "1116                          Phoenix Police Department               Other  \n",
      "1117                     George County Sheriff's Office             Unknown  \n",
      "1118                            Tempe Police Dpeartment               Knife  \n",
      "1119                          Suffolk Police Department  Non-lethal firearm  \n",
      "1120                          Houston Police Department             Firearm  \n",
      "1121                   Hall County Sheriff's Department             Firearm  \n",
      "1122                 Merced County Sheriff's Department               Knife  \n",
      "1123                          Seattle Police Department                  No  \n",
      "1124                      Jacksonville Sheriff's Office                  No  \n",
      "1125                      Los Angeles Police Department             Unknown  \n",
      "1126                           Fresno Police Department               Knife  \n",
      "1127                       Weld County Sheriff's Office                  No  \n",
      "1128           Las Vegas Metropolitan Police Department                  No  \n",
      "1129                          Rawlins Police Department             Unknown  \n",
      "1130                          Chicago Police Department             Firearm  \n",
      "1131  Homedale Police Department, Owyhee County Sher...             Firearm  \n",
      "1132                        Pittsburgh Bureau of Police             Firearm  \n",
      "1133                              Delaware State Police             Firearm  \n",
      "1134                       Kern County Sheriff's Office                  No  \n",
      "1135                 Colorado Springs Police Department  Non-lethal firearm  \n",
      "1136  Leon County Sheriff's Office, Texas Department...             Vehicle  \n",
      "1137                              Jal Police Department             Unknown  \n",
      "1138                 Richmond Heights Police Department             Firearm  \n",
      "1139                      Special police, Washington DC                  No  \n",
      "1140                           Austin Police Department                  No  \n",
      "1141                          Trenton Police Department                  No  \n",
      "1142                        New Paltz Police Department             Firearm  \n",
      "1143                          Lubbock Police Department                  No  \n",
      "1144            Victor Valley College Police Department                  No  \n",
      "1145                           Carmel Police Department                  No  \n",
      "\n",
      "[1146 rows x 14 columns]\n"
     ]
    }
   ],
   "source": [
    "# for debugging\n",
    "# print(usa_dataframe)\n",
    "print(death_dataframe)"
   ]
  },
  {
   "cell_type": "code",
   "execution_count": 16,
   "metadata": {},
   "outputs": [],
   "source": [
    "# unused, parses out data on gender of victims, but pd.crosstab() gives cleaner result\n",
    "# dfstate = death_dataframe.groupby(['gender','state']).size()\n",
    "\n",
    "# parse out data on gender of victims by state\n",
    "df_gender_state = pd.crosstab(death_dataframe.state, death_dataframe.gender)\n",
    "# create stacked bar graph for all states\n",
    "# df_gender_state.plot(kind='bar', stacked=True)"
   ]
  },
  {
   "cell_type": "code",
   "execution_count": 152,
   "metadata": {
    "scrolled": false
   },
   "outputs": [
    {
     "data": {
      "text/plain": [
       "state\n",
       "CA    211\n",
       "TX    112\n",
       "FL     71\n",
       "AZ     44\n",
       "GA     39\n",
       "OK     37\n",
       "OH     36\n",
       "CO     32\n",
       "LA     27\n",
       "NY     27\n",
       "Name: uid, dtype: int64"
      ]
     },
     "execution_count": 152,
     "metadata": {},
     "output_type": "execute_result"
    }
   ],
   "source": [
    "# group data by states to count number of unique IDs which corresponds to deaths\n",
    "dfstate_sum = death_dataframe.groupby('state').uid.nunique()\n",
    "# sort values from largest to smallest\n",
    "sorted_df = dfstate_sum.sort_values(ascending=[False])\n",
    "# list top 10 states\n",
    "sorted_df.nlargest(10) # result -> top 10 states: CA, TX, FL, AZ, GA, OK, OH, CO, LA, NY"
   ]
  },
  {
   "cell_type": "code",
   "execution_count": 154,
   "metadata": {
    "scrolled": true
   },
   "outputs": [
    {
     "data": {
      "text/plain": [
       "state\n",
       "CA    211\n",
       "TX    112\n",
       "FL     71\n",
       "AZ     44\n",
       "GA     39\n",
       "OK     37\n",
       "OH     36\n",
       "CO     32\n",
       "LA     27\n",
       "NY     27\n",
       "dtype: int64"
      ]
     },
     "execution_count": 154,
     "metadata": {},
     "output_type": "execute_result"
    },
    {
     "data": {
      "image/png": "[encoded data removed]",
      "text/plain": [
       "<matplotlib.figure.Figure at 0x110eec410>"
      ]
     },
     "metadata": {},
     "output_type": "display_data"
    }
   ],
   "source": [
    "# now, parse out data for just top 10 states (number of deaths)\n",
    "top10 = df_gender_state.loc[['CA', 'TX', 'FL', 'AZ', 'GA', 'OK', 'OH', 'CO', 'LA', 'NY'],:]\n",
    "# reorder the data for creating bar chart\n",
    "top10_reordered = top10.loc[:,['Male','Female', 'Non-conforming']]\n",
    "# create stacked bar chart\n",
    "fig = top10_reordered.plot(kind='bar', stacked=True)\n",
    "# generate labels\n",
    "plt.ylabel('Number of deaths (2015)')\n",
    "plt.xlabel('State')\n",
    "plt.title('Gender breakdown: police-related deaths for top 10 states')\n",
    "plt.savefig('gender_hist.png')"
   ]
  },
  {
   "cell_type": "code",
   "execution_count": 156,
   "metadata": {},
   "outputs": [
    {
     "data": {
      "text/plain": [
       "[state\n",
       " CA    0.943128\n",
       " TX    0.973214\n",
       " FL    0.985915\n",
       " AZ    0.931818\n",
       " GA    0.897436\n",
       " OK    1.000000\n",
       " OH    1.000000\n",
       " CO    0.937500\n",
       " LA    1.000000\n",
       " NY    1.000000\n",
       " dtype: float64, state\n",
       " CA    0.056872\n",
       " TX    0.026786\n",
       " FL    0.014085\n",
       " AZ    0.068182\n",
       " GA    0.102564\n",
       " OK    0.000000\n",
       " OH    0.000000\n",
       " CO    0.031250\n",
       " LA    0.000000\n",
       " NY    0.000000\n",
       " dtype: float64, state\n",
       " CA    0.00000\n",
       " TX    0.00000\n",
       " FL    0.00000\n",
       " AZ    0.00000\n",
       " GA    0.00000\n",
       " OK    0.00000\n",
       " OH    0.00000\n",
       " CO    0.03125\n",
       " LA    0.00000\n",
       " NY    0.00000\n",
       " dtype: float64]"
      ]
     },
     "execution_count": 156,
     "metadata": {},
     "output_type": "execute_result"
    }
   ],
   "source": [
    "totals_per_state = top10_reordered.sum(axis=1) # find how many (total) of each ethnicity killed in top 10 states\n",
    "states = ['CA', 'TX', 'FL', 'AZ', 'GA', 'OK', 'OH', 'CO', 'LA', 'NY'] # parsed from previous code\n",
    "genders = ['Male', 'Female', 'Non-conforming'] # major selected ethnicities\n",
    "from __future__ import division # to convert int division to float\n",
    "gender_ratios = [] # declare vector of ratios\n",
    "\n",
    "# calculate ratio of police-related deaths over the total per state\n",
    "for gender in genders:\n",
    "        gender_ratios.append(top10_reordered[gender]/totals_per_state)"
   ]
  },
  {
   "cell_type": "code",
   "execution_count": 36,
   "metadata": {},
   "outputs": [
    {
     "name": "stdout",
     "output_type": "stream",
     "text": [
      "gender  Male  Female  Non-conforming\n",
      "state                               \n",
      "CA       199      12               0\n",
      "TX       109       3               0\n",
      "FL        70       1               0\n",
      "AZ        41       3               0\n",
      "GA        35       4               0\n",
      "OK        37       0               0\n",
      "OH        36       0               0\n",
      "CO        30       1               1\n",
      "LA        27       0               0\n",
      "NY        27       0               0\n"
     ]
    }
   ],
   "source": [
    "# print(top10_reordered)"
   ]
  },
  {
   "cell_type": "code",
   "execution_count": 150,
   "metadata": {},
   "outputs": [
    {
     "data": {
      "image/png": "[encoded data removed]",
      "text/plain": [
       "<matplotlib.figure.Figure at 0x11099bb90>"
      ]
     },
     "metadata": {},
     "output_type": "display_data"
    }
   ],
   "source": [
    "# parse out data on race of victims by state\n",
    "df_race = pd.crosstab(death_dataframe.state, death_dataframe.raceethnicity)\n",
    "# retrieve top 10 states\n",
    "df_race_10 = df_race.loc[['CA', 'TX', 'FL', 'AZ', 'GA', 'OK', 'OH', 'CO', 'LA', 'NY'],:]\n",
    "# plot stacked bar chart\n",
    "df_race_10.plot(kind='bar', stacked=True)\n",
    "# generate labels\n",
    "plt.xlabel('State')\n",
    "plt.ylabel('Number of deaths (2015)')\n",
    "plt.title('Ethnicity breakdown: police-related deaths for top 10 states')\n",
    "plt.savefig('ethinicity_hist.png')"
   ]
  },
  {
   "cell_type": "code",
   "execution_count": 151,
   "metadata": {},
   "outputs": [
    {
     "data": {
      "image/png": "[encoded data removed]",
      "text/plain": [
       "<matplotlib.figure.Figure at 0x11038b890>"
      ]
     },
     "metadata": {},
     "output_type": "display_data"
    }
   ],
   "source": [
    "# parse out data on gender of victims by state\n",
    "df_armed_state = pd.crosstab(death_dataframe.state, death_dataframe.armed)\n",
    "df_armed_10 = df_armed_state.loc[['CA', 'TX', 'FL', 'AZ', 'GA', 'OK', 'OH', 'CO', 'LA', 'NY'],:]\n",
    "# plot stacked bar chart\n",
    "df_armed_10.plot(kind='bar', stacked=True)\n",
    "# generate labels\n",
    "plt.xlabel('State')\n",
    "plt.ylabel('Number of deaths (2015)')\n",
    "plt.title('Armed/unarmed breakdown: police-related deaths for top 10 states')\n",
    "plt.savefig('armed_hist.png')"
   ]
  },
  {
   "cell_type": "code",
   "execution_count": 149,
   "metadata": {},
   "outputs": [
    {
     "data": {
      "text/plain": [
       "[state\n",
       " CA    0.170616\n",
       " TX    0.196429\n",
       " FL    0.450704\n",
       " AZ    0.022727\n",
       " GA    0.410256\n",
       " OK    0.324324\n",
       " OH    0.416667\n",
       " CO    0.187500\n",
       " LA    0.518519\n",
       " NY    0.444444\n",
       " dtype: float64, state\n",
       " CA    0.331754\n",
       " TX    0.419643\n",
       " FL    0.436620\n",
       " AZ    0.659091\n",
       " GA    0.538462\n",
       " OK    0.648649\n",
       " OH    0.583333\n",
       " CO    0.375000\n",
       " LA    0.370370\n",
       " NY    0.444444\n",
       " dtype: float64, state\n",
       " CA    0.417062\n",
       " TX    0.339286\n",
       " FL    0.098592\n",
       " AZ    0.227273\n",
       " GA    0.025641\n",
       " OK    0.027027\n",
       " OH    0.000000\n",
       " CO    0.312500\n",
       " LA    0.000000\n",
       " NY    0.074074\n",
       " dtype: float64]"
      ]
     },
     "execution_count": 149,
     "metadata": {},
     "output_type": "execute_result"
    }
   ],
   "source": [
    "totals_per_state = df_race_10.sum(axis=1) # find how many (total) of each ethnicity killed in top 10 states\n",
    "states = ['CA', 'TX', 'FL', 'AZ', 'GA', 'OK', 'OH', 'CO', 'LA', 'NY'] # parsed from previous code\n",
    "races = ['Black', 'White', 'Hispanic/Latino'] # major selected ethnicities\n",
    "from __future__ import division # to convert int division to float\n",
    "ratios = [] # declare vector of ratios\n",
    "\n",
    "# calculate ratio of police-related deaths over the total per state\n",
    "for race in races:\n",
    "        ratios.append(df_race_10[race]/totals_per_state)"
   ]
  },
  {
   "cell_type": "code",
   "execution_count": 70,
   "metadata": {},
   "outputs": [
    {
     "data": {
      "text/plain": [
       "[1, 2, 3, 4, 5, 6, 7, 8, 9]"
      ]
     },
     "execution_count": 70,
     "metadata": {},
     "output_type": "execute_result"
    }
   ],
   "source": []
  },
  {
   "cell_type": "code",
   "execution_count": null,
   "metadata": {},
   "outputs": [],
   "source": []
  },
  {
   "cell_type": "code",
   "execution_count": null,
   "metadata": {},
   "outputs": [],
   "source": []
  }
 ],
 "metadata": {
  "kernelspec": {
   "display_name": "Python 2",
   "language": "python",
   "name": "python2"
  },
  "language_info": {
   "codemirror_mode": {
    "name": "ipython",
    "version": 2
   },
   "file_extension": ".py",
   "mimetype": "text/x-python",
   "name": "python",
   "nbconvert_exporter": "python",
   "pygments_lexer": "ipython2",
   "version": "2.7.14"
  }
 },
 "nbformat": 4,
 "nbformat_minor": 2
}
